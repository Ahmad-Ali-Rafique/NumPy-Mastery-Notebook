{
  "cells": [
    {
      "cell_type": "markdown",
      "metadata": {
        "id": "Lp5ZVokLWfuw"
      },
      "source": [
        "#**NUMPY (PYTHON LIBRARY)**"
      ]
    },
    {
      "cell_type": "markdown",
      "metadata": {
        "id": "c62MZKqnWfux"
      },
      "source": [
        "#### Import NumPy package as np"
      ]
    },
    {
      "cell_type": "code",
      "execution_count": null,
      "metadata": {
        "id": "SpTzkFLxWfuy"
      },
      "outputs": [],
      "source": [
        "import numpy as np"
      ]
    },
    {
      "cell_type": "markdown",
      "metadata": {
        "id": "f2lX881tWfu2"
      },
      "source": [
        "#### Create an empty array of 20 0's and replace the 4th object with the number 5"
      ]
    },
    {
      "cell_type": "code",
      "execution_count": null,
      "metadata": {
        "colab": {
          "base_uri": "https://localhost:8080/"
        },
        "id": "lVHPrQctWfu2",
        "outputId": "730f23cf-7e7c-4fc6-9e34-5c62d59dd8de"
      },
      "outputs": [
        {
          "output_type": "execute_result",
          "data": {
            "text/plain": [
              "array([0., 0., 0., 5., 0., 0., 0., 0., 0., 0., 0., 0., 0., 0., 0., 0., 0.,\n",
              "       0., 0., 0.])"
            ]
          },
          "metadata": {},
          "execution_count": 3
        }
      ],
      "source": [
        "arr=np.zeros(20)\n",
        "arr[3]=5\n",
        "arr"
      ]
    },
    {
      "cell_type": "markdown",
      "metadata": {
        "id": "dThXDXNiWfu7"
      },
      "source": [
        "#### Create an array of 20 1's and store it as a variable named array_master. Copy the same array into another variable named array_copy"
      ]
    },
    {
      "cell_type": "code",
      "execution_count": null,
      "metadata": {
        "colab": {
          "base_uri": "https://localhost:8080/"
        },
        "id": "KvaMkeweWfu7",
        "outputId": "9220f464-2ac0-450b-822a-4880ee8f83c5"
      },
      "outputs": [
        {
          "output_type": "execute_result",
          "data": {
            "text/plain": [
              "array([1., 1., 1., 1., 1., 1., 1., 1., 1., 1., 1., 1., 1., 1., 1., 1., 1.,\n",
              "       1., 1., 1.])"
            ]
          },
          "metadata": {},
          "execution_count": 6
        }
      ],
      "source": [
        "array_master=np.ones(20)\n",
        "copied_array=array_master.copy()\n",
        "array_mater\n",
        "copied_array"
      ]
    },
    {
      "cell_type": "markdown",
      "metadata": {
        "id": "bF-FlufIWfu-"
      },
      "source": [
        "#### Create an array containing 30 1's and broadcast all the one's to the value 100"
      ]
    },
    {
      "cell_type": "code",
      "execution_count": null,
      "metadata": {
        "colab": {
          "base_uri": "https://localhost:8080/"
        },
        "id": "qaVjTJxFWfu-",
        "outputId": "e25003ac-28d3-4511-d97d-24bdd92ead6c"
      },
      "outputs": [
        {
          "output_type": "execute_result",
          "data": {
            "text/plain": [
              "array([100., 100., 100., 100., 100., 100., 100., 100., 100., 100., 100.,\n",
              "       100., 100., 100., 100., 100., 100., 100., 100., 100., 100., 100.,\n",
              "       100., 100., 100., 100., 100., 100., 100., 100.])"
            ]
          },
          "metadata": {},
          "execution_count": 7
        }
      ],
      "source": [
        "arr=np.ones(30)\n",
        "arr[:]=100\n",
        "arr"
      ]
    },
    {
      "cell_type": "markdown",
      "metadata": {
        "id": "HKKqb87hWfvB"
      },
      "source": [
        "#### Create an array of integers starting from 21 until 31 and name it as array1\n",
        "\n",
        "#### Create an array of integers starting from 11 until 21 and name it array2\n",
        "\n",
        "#### Calculate the difference between array1 and array2"
      ]
    },
    {
      "cell_type": "code",
      "execution_count": null,
      "metadata": {
        "colab": {
          "base_uri": "https://localhost:8080/"
        },
        "id": "352yfktiWfvC",
        "outputId": "d521458c-c6ce-4b52-9a1a-666c37e2a725"
      },
      "outputs": [
        {
          "output_type": "execute_result",
          "data": {
            "text/plain": [
              "array([10, 10, 10, 10, 10, 10, 10, 10, 10, 10, 10])"
            ]
          },
          "metadata": {},
          "execution_count": 10
        }
      ],
      "source": [
        "array1=np.arange(21, 32)\n",
        "array2=np.arange(11, 22)\n",
        "array1 - array2"
      ]
    },
    {
      "cell_type": "markdown",
      "metadata": {
        "id": "4R-KERipWfvE"
      },
      "source": [
        "#### Create an array of all even integers from 2 to 10 and name it a1\n",
        "\n",
        "#### Create an array of all even integers from 22 to 30 and name it a2\n",
        "\n",
        "####  a) Use the 2 arrays as rows and create a matrix [ Hint - Use stack function from numpy ]"
      ]
    },
    {
      "cell_type": "code",
      "execution_count": null,
      "metadata": {
        "colab": {
          "base_uri": "https://localhost:8080/"
        },
        "id": "0OjKCkmMWfvF",
        "outputId": "e2d025b8-1488-43f2-96d3-758299459811"
      },
      "outputs": [
        {
          "output_type": "execute_result",
          "data": {
            "text/plain": [
              "array([[ 2,  4,  6,  8, 10],\n",
              "       [22, 24, 26, 28, 30]])"
            ]
          },
          "metadata": {},
          "execution_count": 13
        }
      ],
      "source": [
        "a1=np.arange(2,11,2)\n",
        "a2=np.arange(22,31,2)\n",
        "stacking=np.stack((a1,a2))\n",
        "stacking"
      ]
    },
    {
      "cell_type": "markdown",
      "metadata": {
        "id": "VLJjqpKqWfvH"
      },
      "source": [
        "####  b) Use the 2 arrays as columns and create a matrix [ Hint - Use column_stack function from numpy ]"
      ]
    },
    {
      "cell_type": "code",
      "execution_count": null,
      "metadata": {
        "colab": {
          "base_uri": "https://localhost:8080/"
        },
        "id": "l4VfVRhnWfvJ",
        "outputId": "1a7ea466-9768-4420-950b-23d877f028f8"
      },
      "outputs": [
        {
          "output_type": "execute_result",
          "data": {
            "text/plain": [
              "array([[ 2, 22],\n",
              "       [ 4, 24],\n",
              "       [ 6, 26],\n",
              "       [ 8, 28],\n",
              "       [10, 30]])"
            ]
          },
          "metadata": {},
          "execution_count": 15
        }
      ],
      "source": [
        "stacking=np.column_stack((a1,a2))\n",
        "stacking"
      ]
    },
    {
      "cell_type": "markdown",
      "metadata": {
        "id": "niKmN4TiWfvM"
      },
      "source": [
        "#### Create a 5x6 matrix with values ranging from 0 to 29 and retrieve the value intersecting at 2nd row and 3rd column"
      ]
    },
    {
      "cell_type": "code",
      "execution_count": null,
      "metadata": {
        "colab": {
          "base_uri": "https://localhost:8080/"
        },
        "id": "PVnwBW0IWfvM",
        "outputId": "3b52be1d-8201-432a-b768-5f73180a81aa"
      },
      "outputs": [
        {
          "output_type": "execute_result",
          "data": {
            "text/plain": [
              "8"
            ]
          },
          "metadata": {},
          "execution_count": 18
        }
      ],
      "source": [
        "array=np.arange(30).reshape(5,6)\n",
        "array[1,2]"
      ]
    },
    {
      "cell_type": "markdown",
      "metadata": {
        "id": "U5WRwbSCWfvP"
      },
      "source": [
        "#### Create an identity matrix of shape 10x10 and replace the 0's with the value 21"
      ]
    },
    {
      "cell_type": "code",
      "execution_count": null,
      "metadata": {
        "colab": {
          "base_uri": "https://localhost:8080/"
        },
        "id": "OnUDHAYYWfvP",
        "outputId": "e511d6c4-6575-4ebe-c674-62e373f6d908"
      },
      "outputs": [
        {
          "output_type": "execute_result",
          "data": {
            "text/plain": [
              "array([[ 1., 21., 21., 21., 21., 21., 21., 21., 21., 21.],\n",
              "       [21.,  1., 21., 21., 21., 21., 21., 21., 21., 21.],\n",
              "       [21., 21.,  1., 21., 21., 21., 21., 21., 21., 21.],\n",
              "       [21., 21., 21.,  1., 21., 21., 21., 21., 21., 21.],\n",
              "       [21., 21., 21., 21.,  1., 21., 21., 21., 21., 21.],\n",
              "       [21., 21., 21., 21., 21.,  1., 21., 21., 21., 21.],\n",
              "       [21., 21., 21., 21., 21., 21.,  1., 21., 21., 21.],\n",
              "       [21., 21., 21., 21., 21., 21., 21.,  1., 21., 21.],\n",
              "       [21., 21., 21., 21., 21., 21., 21., 21.,  1., 21.],\n",
              "       [21., 21., 21., 21., 21., 21., 21., 21., 21.,  1.]])"
            ]
          },
          "metadata": {},
          "execution_count": 19
        }
      ],
      "source": [
        "arr=np.eye(10)\n",
        "arr[arr == 0]= 21\n",
        "arr"
      ]
    },
    {
      "cell_type": "markdown",
      "metadata": {
        "id": "fRsaQkJ7WfvS"
      },
      "source": [
        "#### Use NumPy to generate a random set of 10 numbers between 0 and 1\n",
        "\n",
        "#### Display a boolean array output where all values > 0.2 are True, rest are marked as False"
      ]
    },
    {
      "cell_type": "code",
      "execution_count": null,
      "metadata": {
        "colab": {
          "base_uri": "https://localhost:8080/"
        },
        "id": "JZDFFk9YWfvS",
        "outputId": "86dcc2e0-6665-405c-a82f-44ae16bf935a"
      },
      "outputs": [
        {
          "output_type": "execute_result",
          "data": {
            "text/plain": [
              "array([ True,  True,  True, False,  True,  True,  True,  True,  True,\n",
              "        True])"
            ]
          },
          "metadata": {},
          "execution_count": 22
        }
      ],
      "source": [
        "arr=np.random.rand(10)\n",
        "arr>0.2"
      ]
    },
    {
      "cell_type": "markdown",
      "metadata": {
        "id": "1Z7l0TYxWfvV"
      },
      "source": [
        "#### Use NumPy to generate an array matrix of 5x2 random numbers sampled from a standard normal distribution"
      ]
    },
    {
      "cell_type": "code",
      "execution_count": null,
      "metadata": {
        "colab": {
          "base_uri": "https://localhost:8080/"
        },
        "id": "FtVgVTJdWfvV",
        "outputId": "71d769d0-44e0-4306-9088-c375b0011874"
      },
      "outputs": [
        {
          "output_type": "execute_result",
          "data": {
            "text/plain": [
              "array([[-1.65982554, -0.44145009],\n",
              "       [-1.51589698,  0.69448887],\n",
              "       [ 0.10150661,  1.07010512],\n",
              "       [-0.11049649,  0.76958992],\n",
              "       [-1.31087853,  0.87181679]])"
            ]
          },
          "metadata": {},
          "execution_count": 24
        }
      ],
      "source": [
        "arr=np.random.randn(5,2)\n",
        "arr"
      ]
    },
    {
      "cell_type": "markdown",
      "metadata": {
        "id": "qTzYA4pPWfvY"
      },
      "source": [
        "#### Create an array of 30 linearly spaced points between 0 and 100:"
      ]
    },
    {
      "cell_type": "code",
      "execution_count": null,
      "metadata": {
        "colab": {
          "base_uri": "https://localhost:8080/"
        },
        "id": "6nTHKqIXWfvZ",
        "outputId": "074fe365-7f27-4b68-fee3-a41bba8ccc0b"
      },
      "outputs": [
        {
          "output_type": "execute_result",
          "data": {
            "text/plain": [
              "array([  0.        ,   3.44827586,   6.89655172,  10.34482759,\n",
              "        13.79310345,  17.24137931,  20.68965517,  24.13793103,\n",
              "        27.5862069 ,  31.03448276,  34.48275862,  37.93103448,\n",
              "        41.37931034,  44.82758621,  48.27586207,  51.72413793,\n",
              "        55.17241379,  58.62068966,  62.06896552,  65.51724138,\n",
              "        68.96551724,  72.4137931 ,  75.86206897,  79.31034483,\n",
              "        82.75862069,  86.20689655,  89.65517241,  93.10344828,\n",
              "        96.55172414, 100.        ])"
            ]
          },
          "metadata": {},
          "execution_count": 25
        }
      ],
      "source": [
        "np.linspace(0,100,30)"
      ]
    },
    {
      "cell_type": "markdown",
      "metadata": {
        "id": "KqmTGelEWfvc"
      },
      "source": [
        "## Numpy Indexing and Selections\n",
        "\n",
        "Using the below given Matrix, generate the output for the below questions"
      ]
    },
    {
      "cell_type": "code",
      "execution_count": null,
      "metadata": {
        "colab": {
          "base_uri": "https://localhost:8080/"
        },
        "id": "pm3KmD3IWfvd",
        "outputId": "b0e3c537-5817-4256-81b1-962ecdcfe795"
      },
      "outputs": [
        {
          "output_type": "execute_result",
          "data": {
            "text/plain": [
              "array([[  1,   2,   3,   4,   5,   6,   7,   8,   9,  10],\n",
              "       [ 11,  12,  13,  14,  15,  16,  17,  18,  19,  20],\n",
              "       [ 21,  22,  23,  24,  25,  26,  27,  28,  29,  30],\n",
              "       [ 31,  32,  33,  34,  35,  36,  37,  38,  39,  40],\n",
              "       [ 41,  42,  43,  44,  45,  46,  47,  48,  49,  50],\n",
              "       [ 51,  52,  53,  54,  55,  56,  57,  58,  59,  60],\n",
              "       [ 61,  62,  63,  64,  65,  66,  67,  68,  69,  70],\n",
              "       [ 71,  72,  73,  74,  75,  76,  77,  78,  79,  80],\n",
              "       [ 81,  82,  83,  84,  85,  86,  87,  88,  89,  90],\n",
              "       [ 91,  92,  93,  94,  95,  96,  97,  98,  99, 100]])"
            ]
          },
          "metadata": {},
          "execution_count": 27
        }
      ],
      "source": [
        "matrix=np.arange(1, 101).reshape(10,10)\n",
        "matrix"
      ]
    },
    {
      "cell_type": "markdown",
      "metadata": {
        "collapsed": true,
        "id": "pHeZcfIeWfvg"
      },
      "source": [
        "#### a) Retrieve the last 2 rows and first 3 column values of the above matrix using index & selection technique"
      ]
    },
    {
      "cell_type": "code",
      "execution_count": null,
      "metadata": {
        "colab": {
          "base_uri": "https://localhost:8080/"
        },
        "id": "fbGjB4__Wfvh",
        "outputId": "7460c24e-6bf7-4200-c203-6f4f1141505e"
      },
      "outputs": [
        {
          "output_type": "execute_result",
          "data": {
            "text/plain": [
              "array([[81, 82, 83],\n",
              "       [91, 92, 93]])"
            ]
          },
          "metadata": {},
          "execution_count": 28
        }
      ],
      "source": [
        "matrix[8:,0:3]"
      ]
    },
    {
      "cell_type": "markdown",
      "metadata": {
        "collapsed": true,
        "id": "2wJa4BSaWfvj"
      },
      "source": [
        "#### b) Retrieve the value 55 from the above matrix using index & selection technique"
      ]
    },
    {
      "cell_type": "code",
      "execution_count": null,
      "metadata": {
        "colab": {
          "base_uri": "https://localhost:8080/"
        },
        "id": "AegcurX4Wfvk",
        "outputId": "884a598e-1572-486b-fe11-933622b92045"
      },
      "outputs": [
        {
          "output_type": "execute_result",
          "data": {
            "text/plain": [
              "55"
            ]
          },
          "metadata": {},
          "execution_count": 30
        }
      ],
      "source": [
        "matrix[5,4]"
      ]
    },
    {
      "cell_type": "markdown",
      "metadata": {
        "collapsed": true,
        "id": "wWPhtOkgWfvn"
      },
      "source": [
        "#### c) Retrieve the values from the 3rd column in the above matrix"
      ]
    },
    {
      "cell_type": "code",
      "execution_count": null,
      "metadata": {
        "colab": {
          "base_uri": "https://localhost:8080/"
        },
        "id": "eUNk6QxPWfvo",
        "outputId": "d215c4cd-19d9-4785-f145-2ac0b03d5384"
      },
      "outputs": [
        {
          "output_type": "execute_result",
          "data": {
            "text/plain": [
              "array([ 3, 13, 23, 33, 43, 53, 63, 73, 83, 93])"
            ]
          },
          "metadata": {},
          "execution_count": 32
        }
      ],
      "source": [
        "matrix[:,2]"
      ]
    },
    {
      "cell_type": "markdown",
      "metadata": {
        "collapsed": true,
        "id": "dfZ_PbMlWfvr"
      },
      "source": [
        "#### d) Retrieve the values from the 4th row in the above matrix"
      ]
    },
    {
      "cell_type": "code",
      "execution_count": null,
      "metadata": {
        "colab": {
          "base_uri": "https://localhost:8080/"
        },
        "id": "-clpnQ8yWfvs",
        "outputId": "6fa5af31-e150-406a-88f8-5f81befa1e92"
      },
      "outputs": [
        {
          "output_type": "execute_result",
          "data": {
            "text/plain": [
              "array([31, 32, 33, 34, 35, 36, 37, 38, 39, 40])"
            ]
          },
          "metadata": {},
          "execution_count": 33
        }
      ],
      "source": [
        "matrix[3,:]"
      ]
    },
    {
      "cell_type": "markdown",
      "metadata": {
        "collapsed": true,
        "id": "t9ua2w55Wfvu"
      },
      "source": [
        "#### e) Retrieve values from the 2nd & 4th rows in the above matrix"
      ]
    },
    {
      "cell_type": "code",
      "execution_count": null,
      "metadata": {
        "colab": {
          "base_uri": "https://localhost:8080/"
        },
        "id": "RVZJNF7sWfvv",
        "outputId": "9931d9c2-9182-46fc-9fd9-d0456319b83d"
      },
      "outputs": [
        {
          "output_type": "execute_result",
          "data": {
            "text/plain": [
              "array([[11, 12, 13, 14, 15, 16, 17, 18, 19, 20],\n",
              "       [31, 32, 33, 34, 35, 36, 37, 38, 39, 40]])"
            ]
          },
          "metadata": {},
          "execution_count": 34
        }
      ],
      "source": [
        "matrix[(1, 3),:]"
      ]
    },
    {
      "cell_type": "markdown",
      "metadata": {
        "id": "4bwQCCltWfvy"
      },
      "source": [
        "### Calculate the following values for the given matrix"
      ]
    },
    {
      "cell_type": "markdown",
      "metadata": {
        "id": "KJie8xeZWfv1"
      },
      "source": [
        "#### a) Calculate sum of all the values in the matrix"
      ]
    },
    {
      "cell_type": "code",
      "execution_count": null,
      "metadata": {
        "colab": {
          "base_uri": "https://localhost:8080/"
        },
        "id": "ItHB9_nuWfv2",
        "outputId": "8bc87c63-1331-4f84-9972-0a0fcf6d4c01"
      },
      "outputs": [
        {
          "output_type": "execute_result",
          "data": {
            "text/plain": [
              "5050"
            ]
          },
          "metadata": {},
          "execution_count": 35
        }
      ],
      "source": [
        "matrix.sum()"
      ]
    },
    {
      "cell_type": "markdown",
      "metadata": {
        "id": "4f7xVNwdWfv4"
      },
      "source": [
        "#### b) Calculate standard deviation of all the values in the matrix"
      ]
    },
    {
      "cell_type": "code",
      "execution_count": null,
      "metadata": {
        "colab": {
          "base_uri": "https://localhost:8080/"
        },
        "id": "GXMAuXmEWfv5",
        "outputId": "9ae62956-baca-479c-f5be-f89f13458497"
      },
      "outputs": [
        {
          "output_type": "execute_result",
          "data": {
            "text/plain": [
              "28.86607004772212"
            ]
          },
          "metadata": {},
          "execution_count": 36
        }
      ],
      "source": [
        "matrix.std()"
      ]
    },
    {
      "cell_type": "markdown",
      "metadata": {
        "id": "w6UG88Z3Wfv7"
      },
      "source": [
        "#### c) Calculate the variance of all values in the matrix"
      ]
    },
    {
      "cell_type": "code",
      "execution_count": null,
      "metadata": {
        "colab": {
          "base_uri": "https://localhost:8080/"
        },
        "id": "mK3Dg9HcWfv8",
        "outputId": "7c6f20ed-2c41-4b08-e668-045067f68b59"
      },
      "outputs": [
        {
          "output_type": "execute_result",
          "data": {
            "text/plain": [
              "833.25"
            ]
          },
          "metadata": {},
          "execution_count": 37
        }
      ],
      "source": [
        "matrix.var()"
      ]
    },
    {
      "cell_type": "markdown",
      "metadata": {
        "collapsed": true,
        "id": "XrLeJqpqWfv9"
      },
      "source": [
        "#### d) Calculate the mean of all values in the matrix"
      ]
    },
    {
      "cell_type": "code",
      "execution_count": null,
      "metadata": {
        "colab": {
          "base_uri": "https://localhost:8080/"
        },
        "id": "CkTZoE6sWfv-",
        "outputId": "a6a35ae0-8820-4f69-aa59-0830ae0480d3"
      },
      "outputs": [
        {
          "output_type": "execute_result",
          "data": {
            "text/plain": [
              "50.5"
            ]
          },
          "metadata": {},
          "execution_count": 38
        }
      ],
      "source": [
        "matrix.mean()"
      ]
    },
    {
      "cell_type": "markdown",
      "metadata": {
        "id": "z8KLRmmAWfwA"
      },
      "source": [
        "#### e) Retrieve the largest number from the matrix"
      ]
    },
    {
      "cell_type": "code",
      "execution_count": null,
      "metadata": {
        "colab": {
          "base_uri": "https://localhost:8080/"
        },
        "id": "RdFESOK5WfwA",
        "outputId": "31be0232-6a2f-425b-8d91-3616d85c2ad1"
      },
      "outputs": [
        {
          "output_type": "execute_result",
          "data": {
            "text/plain": [
              "100"
            ]
          },
          "metadata": {},
          "execution_count": 39
        }
      ],
      "source": [
        "matrix.max()"
      ]
    },
    {
      "cell_type": "markdown",
      "metadata": {
        "id": "urIyRtI3WfwC"
      },
      "source": [
        "#### f) Retrieve the smallest number from the matrix"
      ]
    },
    {
      "cell_type": "code",
      "execution_count": null,
      "metadata": {
        "colab": {
          "base_uri": "https://localhost:8080/"
        },
        "id": "z35HtXjIWfwC",
        "outputId": "4f8e6545-a341-4a42-8fb2-1ec351d32c0e"
      },
      "outputs": [
        {
          "output_type": "execute_result",
          "data": {
            "text/plain": [
              "1"
            ]
          },
          "metadata": {},
          "execution_count": 40
        }
      ],
      "source": [
        "matrix.min()"
      ]
    }
  ],
  "metadata": {
    "colab": {
      "provenance": []
    },
    "kernelspec": {
      "display_name": "Python 3",
      "language": "python",
      "name": "python3"
    },
    "language_info": {
      "codemirror_mode": {
        "name": "ipython",
        "version": 3
      },
      "file_extension": ".py",
      "mimetype": "text/x-python",
      "name": "python",
      "nbconvert_exporter": "python",
      "pygments_lexer": "ipython3",
      "version": "3.7.3"
    }
  },
  "nbformat": 4,
  "nbformat_minor": 0
}